{
 "cells": [
  {
   "cell_type": "code",
   "execution_count": 2,
   "metadata": {
    "collapsed": false
   },
   "outputs": [
    {
     "name": "stdout",
     "output_type": "stream",
     "text": [
      "Downloading http://data.astropy.org/photometry/M6707HH.fits [Done]\n"
     ]
    }
   ],
   "source": [
    "import numpy as np\n",
    "from photutils import datasets\n",
    "hbu = datasets.load_star_image()\n",
    "# Uploads an image from a bundled dataset"
   ]
  },
  {
   "cell_type": "code",
   "execution_count": 3,
   "metadata": {
    "collapsed": true
   },
   "outputs": [],
   "source": [
    "image = hbu.data[500:700, 500:700].astype(float)\n",
    "# Selecting a subset of the image\n",
    "image -= np.median(image)\n",
    "# Subtracts out a rough estimate of the background intensity"
   ]
  },
  {
   "cell_type": "code",
   "execution_count": 4,
   "metadata": {
    "collapsed": false
   },
   "outputs": [
    {
     "name": "stdout",
     "output_type": "stream",
     "text": [
      " id   xcentroid     ycentroid    ...  peak       flux           mag      \n",
      "--- ------------- -------------- ... ------ ------------- ---------------\n",
      "  1 182.838658938 0.167670190537 ... 3824.0 2.80283459469  -1.11899367311\n",
      "  2 189.204308134 0.260813525338 ... 4913.0 3.87291850311  -1.47009589582\n",
      "  3 5.79464911433  2.61254240807 ... 7752.0  4.1029107294  -1.53273016937\n",
      "  4 36.8470627804  1.32202279582 ... 8739.0 7.43158178793  -2.17770315441\n",
      "  5  3.2565602452  5.41895201748 ... 6935.0 3.81262984074  -1.45306160673\n",
      "  6 10.2680378117  5.39992037627 ... 8205.0 2.84725166946  -1.13606464067\n",
      "  7 93.5564238612  7.38602419245 ... 7440.0 7.03561705333  -2.11825548225\n",
      "  8 5.73805567511  7.51522391382 ... 8500.0 2.72018182959  -1.08649483816\n",
      "  9 19.1364892873  9.04066195256 ... 3691.0  2.7049517699  -1.08039881478\n",
      " 10 55.0520018054  11.3531158647 ... 8115.0 2.91399108796  -1.16122054802\n",
      "...           ...            ... ...    ...           ...             ...\n",
      "142 141.911446413  181.036982998 ... 8359.0 4.08099563609  -1.52691532593\n",
      "143  171.90254459  183.061032811 ... 7587.0 7.95337038344  -2.25137801936\n",
      "144 77.2481986349  184.027346405 ... 6980.0 6.51108824734  -2.03413395388\n",
      "145 14.5104744617  185.863679944 ... 8618.0 7.17920201351  -2.14019043498\n",
      "146 153.556211683  185.964827386 ... 8449.0 7.37734181961    -2.169749766\n",
      "147 197.248635428   186.16646576 ... 8302.0 7.58146289311  -2.19938253423\n",
      "148 124.313272579  188.305229159 ... 6702.0 6.63585429303  -2.05474210356\n",
      "149 24.2572074962  194.714942814 ... 8342.0  3.2671036996  -1.28540729858\n",
      "150 116.449998422  195.059233325 ... 3299.0 2.87752205766   -1.1475466535\n",
      "151 18.9580860645  196.342065132 ... 3854.0 2.38352961224 -0.943051379595\n",
      "152 111.525751196  195.731917995 ... 8109.0  7.9278607401  -2.24789003194\n",
      "Length = 152 rows\n"
     ]
    }
   ],
   "source": [
    "from photutils import DAOStarFinder\n",
    "from astropy.stats import mad_std\n",
    "bkg_sigma = mad_std(image)\n",
    "# This will define the background intensity level\n",
    "# Assumes a background-subtracted image\n",
    "daofind = DAOStarFinder(fwhm = 4., threshold = 3. * bkg_sigma)\n",
    "# Will find stars will parameters greater than the arguments\n",
    "# Sets a 3-sigma noise level for star detection\n",
    "sources = daofind(image)\n",
    "print(sources)\n",
    "# Parameters of the detected sources returned in a table"
   ]
  },
  {
   "cell_type": "code",
   "execution_count": 5,
   "metadata": {
    "collapsed": false
   },
   "outputs": [
    {
     "name": "stdout",
     "output_type": "stream",
     "text": [
      " id      xcenter             ycenter        aperture_sum\n",
      "           pix                 pix                      \n",
      "--- ------------------ ------------------- -------------\n",
      "  1  182.8386589381308 0.16767019053693752 18121.7594837\n",
      "  2 189.20430813403388 0.26081352533766516 29836.5152158\n",
      "  3  5.794649114329246   2.612542408073547 331979.819037\n",
      "  4  36.84706278043582  1.3220227958153257 183705.093284\n",
      "  5 3.2565602452007325   5.418952017476508 349468.978627\n",
      "  6  10.26803781170568   5.399920376265882 261533.368196\n",
      "  7  93.55642386118626  7.3860241924522425 66815.0304252\n",
      "  8  5.738055675108882   7.515223913817501 363004.571475\n",
      "  9 19.136489287273047   9.040661952555341 49273.9292606\n",
      " 10  55.05200180542786  11.353115864653962  380132.87853\n",
      "...                ...                 ...           ...\n",
      "143 171.90254459017993  183.06103281058347 47904.4193471\n",
      "144  77.24819863485008  184.02734640546404 54903.4170297\n",
      "145 14.510474461703554  185.86367994353577 143839.371649\n",
      "146 153.55621168342157  185.96482738633503 142561.834133\n",
      "147 197.24863542816883  186.16646575968502 137269.807113\n",
      "148  124.3132725793939  188.30522915858668 45084.8737867\n",
      "149 24.257207496209027  194.71494281419265 355778.007298\n",
      "150 116.44999842177826  195.05923332483115 31232.9117818\n",
      "151 18.958086064485013   196.3420651316401 162076.262752\n",
      "152 111.52575119605933  195.73191799469373 82795.7145661\n",
      "Length = 152 rows\n"
     ]
    }
   ],
   "source": [
    "from photutils import aperture_photometry, CircularAperture\n",
    "positions = (sources['xcentroid'], sources['ycentroid']) \n",
    "# Defines the locations of the stars from the source list\n",
    "apertures = CircularAperture(positions, r = 4.)\n",
    "# Uses circular apertures with a radius of 4 pixels\n",
    "# Calculates the sum of the pixel values within the apertures\n",
    "phot_table = aperture_photometry(image, apertures)\n",
    "print(phot_table)"
   ]
  },
  {
   "cell_type": "code",
   "execution_count": 12,
   "metadata": {
    "collapsed": false
   },
   "outputs": [],
   "source": [
    "import matplotlib.pyplot as plt\n",
    "plt.imshow(image, cmap = 'gray_r', origin = 'lower')\n",
    "apertures.plot(color = 'blue', lw = 1.5, alpha = 0.5)"
   ]
  },
  {
   "cell_type": "code",
   "execution_count": null,
   "metadata": {
    "collapsed": true
   },
   "outputs": [],
   "source": []
  }
 ],
 "metadata": {
  "kernelspec": {
   "display_name": "Python 3",
   "language": "python",
   "name": "python3"
  },
  "language_info": {
   "codemirror_mode": {
    "name": "ipython",
    "version": 3
   },
   "file_extension": ".py",
   "mimetype": "text/x-python",
   "name": "python",
   "nbconvert_exporter": "python",
   "pygments_lexer": "ipython3",
   "version": "3.6.0"
  }
 },
 "nbformat": 4,
 "nbformat_minor": 2
}
